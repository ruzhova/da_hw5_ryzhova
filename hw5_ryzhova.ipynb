{
 "cells": [
  {
   "cell_type": "markdown",
   "metadata": {},
   "source": [
    "### Переведите содержимое файла purchase_log.txt* в словарь purchases вида:\n",
    "#### {‘1840e0b9d4’: ‘Продукты’, …}\n",
    "#### Учтите условия на данные:\n",
    "- содержимое purchase_log.txt* помещается в оперативную память компьютера;\n",
    "\n"
   ]
  },
  {
   "cell_type": "code",
   "execution_count": null,
   "metadata": {},
   "outputs": [
    {
     "name": "stdout",
     "output_type": "stream",
     "text": [
      "{'1840e0b9d4': 'Продукты', '4e4f90fcfb': 'Электроника', 'afea8d72fc': 'Электроника', '373a6055fe': 'Бытовая техника', '9b2ab046f3': 'Электроника', '9f39d307c3': 'Электроника', '44edeffc91': 'Продукты', '704474fa2d': 'Продукты', '1de31be403': 'Бытовая техника'}\n"
     ]
    }
   ],
   "source": [
    "import json\n",
    "\n",
    "f = open('purchase_log.txt', 'r', encoding='utf-8')\n",
    "\n",
    "content = f.readlines()\n",
    "\n",
    "f.close()\n",
    "\n",
    "i = 0\n",
    "purchases = {}\n",
    "\n",
    "for line in content:\n",
    "    new_json = json.loads(line)\n",
    "    new_json_key, new_json_value = new_json['user_id'], new_json['category']\n",
    "    if new_json_key != 'user_id' and new_json_value != 'category':\n",
    "        purchases[new_json_key] = new_json_value\n",
    "    \n",
    "    # выводим только первые 10 чтобы отобразился словарь\n",
    "    i += 1\n",
    "    if i == 10:\n",
    "        print(purchases)\n",
    "        \n",
    "    "
   ]
  },
  {
   "cell_type": "markdown",
   "metadata": {},
   "source": [
    "### Для каждого user_id в файле visit_log.csv определите третий столбец с категорией покупки, если покупка была, сам файл visit_log.csv* изменять не надо. Запишите в файл funnel.csv визиты из файла visit_log.csv*, в которых были покупки с указанием категории.\n",
    "#### Учтите условия на данные:\n",
    "- содержимое visit_log.csv* — не помещается в оперативную память компьютера; используйте только построчную обработку этого файла."
   ]
  },
  {
   "cell_type": "code",
   "execution_count": null,
   "metadata": {},
   "outputs": [
    {
     "name": "stdout",
     "output_type": "stream",
     "text": [
      "user_id,source,category\n",
      "\n",
      "1840e0b9d4,other,Продукты\n",
      "\n",
      "4e4f90fcfb,context,Электроника\n",
      "\n",
      "afea8d72fc,other,Электроника\n",
      "\n",
      "2824221f38,email,Продукты\n",
      "\n",
      "373a6055fe,other,Бытовая техника\n",
      "\n",
      "9b2ab046f3,other,Электроника\n",
      "\n",
      "9f39d307c3,context,Электроника\n",
      "\n",
      "44edeffc91,context,Продукты\n",
      "\n",
      "704474fa2d,other,Продукты\n",
      "\n",
      "1de31be403,other,Бытовая техника\n",
      "\n",
      "5da0dedf13,context,Досуг\n",
      "\n",
      "b71f36a5e4,other,Продукты\n",
      "\n",
      "79843a685a,context,Продукты\n",
      "\n"
     ]
    }
   ],
   "source": [
    "import csv\n",
    "\n",
    "with open('visit_log.csv') as f:\n",
    "    with open('funnel.csv', 'w', newline='') as w:\n",
    "        writer = csv.writer(w)\n",
    "        # заголовок - чтобы красиво было\n",
    "        writer.writerow(['user_id', 'source', 'category'])\n",
    "        for line in f:\n",
    "            logs_values = line.strip().split(',')\n",
    "            if logs_values[0] in purchases.keys() and purchases[logs_values[0]] is not None:\n",
    "                logs_values.append(purchases[logs_values[0]])\n",
    "                writer.writerow(logs_values)\n",
    "    w.close()\n",
    "f.close()\n",
    "\n",
    "# вывод первых строк содержимого файла funnel.csv\n",
    "f = open('funnel.csv', 'r', encoding='utf-8')\n",
    "\n",
    "content = f.readlines()\n",
    "\n",
    "f.close()\n",
    "\n",
    "i = 0\n",
    "for line in content:\n",
    "    i += 1\n",
    "    if i < 15:\n",
    "        print(line)"
   ]
  }
 ],
 "metadata": {
  "kernelspec": {
   "display_name": "Python 3",
   "language": "python",
   "name": "python3"
  },
  "language_info": {
   "codemirror_mode": {
    "name": "ipython",
    "version": 3
   },
   "file_extension": ".py",
   "mimetype": "text/x-python",
   "name": "python",
   "nbconvert_exporter": "python",
   "pygments_lexer": "ipython3",
   "version": "3.9.6"
  }
 },
 "nbformat": 4,
 "nbformat_minor": 2
}
